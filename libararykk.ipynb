{
 "cells": [
  {
   "cell_type": "code",
   "execution_count": 1,
   "id": "184bcd37",
   "metadata": {},
   "outputs": [
    {
     "ename": "ModuleNotFoundError",
     "evalue": "No module named 'numpy'",
     "output_type": "error",
     "traceback": [
      "\u001b[1;31m---------------------------------------------------------------------------\u001b[0m",
      "\u001b[1;31mModuleNotFoundError\u001b[0m                       Traceback (most recent call last)",
      "Cell \u001b[1;32mIn [1], line 1\u001b[0m\n\u001b[1;32m----> 1\u001b[0m \u001b[38;5;28;01mimport\u001b[39;00m \u001b[38;5;21;01mnumpy\u001b[39;00m\n",
      "\u001b[1;31mModuleNotFoundError\u001b[0m: No module named 'numpy'"
     ]
    }
   ],
   "source": [
    "import numpy"
   ]
  },
  {
   "cell_type": "code",
   "execution_count": 1,
   "id": "9c996e0e",
   "metadata": {},
   "outputs": [],
   "source": [
    "import numpy"
   ]
  },
  {
   "cell_type": "code",
   "execution_count": 2,
   "id": "245b7d0a",
   "metadata": {},
   "outputs": [],
   "source": [
    "import numpy as np"
   ]
  },
  {
   "cell_type": "code",
   "execution_count": 9,
   "id": "611e0d81",
   "metadata": {},
   "outputs": [],
   "source": [
    "a=np.array([(1,2,3),(4,5,6)])"
   ]
  },
  {
   "cell_type": "code",
   "execution_count": 5,
   "id": "c78a9b31",
   "metadata": {},
   "outputs": [
    {
     "name": "stdout",
     "output_type": "stream",
     "text": [
      "[1 2 3]\n"
     ]
    }
   ],
   "source": [
    "print(a)"
   ]
  },
  {
   "cell_type": "code",
   "execution_count": 6,
   "id": "05d96947",
   "metadata": {},
   "outputs": [],
   "source": [
    "trans=np.transpose(a)"
   ]
  },
  {
   "cell_type": "code",
   "execution_count": 10,
   "id": "d50a5702",
   "metadata": {},
   "outputs": [
    {
     "name": "stdout",
     "output_type": "stream",
     "text": [
      "[[1 2 3]\n",
      " [4 5 6]]\n"
     ]
    }
   ],
   "source": [
    "print(a)"
   ]
  },
  {
   "cell_type": "code",
   "execution_count": 11,
   "id": "bfbabf28",
   "metadata": {},
   "outputs": [],
   "source": [
    "trans=np.transpose(a)"
   ]
  },
  {
   "cell_type": "code",
   "execution_count": 12,
   "id": "61fbc7b1",
   "metadata": {},
   "outputs": [
    {
     "name": "stdout",
     "output_type": "stream",
     "text": [
      "[[1 4]\n",
      " [2 5]\n",
      " [3 6]]\n"
     ]
    }
   ],
   "source": [
    "print(trans)"
   ]
  },
  {
   "cell_type": "code",
   "execution_count": 14,
   "id": "b4f2b3cf",
   "metadata": {},
   "outputs": [
    {
     "data": {
      "text/plain": [
       "array([1, 4, 2, 5, 3, 6])"
      ]
     },
     "execution_count": 14,
     "metadata": {},
     "output_type": "execute_result"
    }
   ],
   "source": [
    "trans.ravel()"
   ]
  },
  {
   "cell_type": "code",
   "execution_count": 18,
   "id": "eb722443",
   "metadata": {},
   "outputs": [
    {
     "data": {
      "text/plain": [
       "array([[1, 4, 2],\n",
       "       [5, 3, 6]])"
      ]
     },
     "execution_count": 18,
     "metadata": {},
     "output_type": "execute_result"
    }
   ],
   "source": [
    "trans.reshape(2,3)"
   ]
  },
  {
   "cell_type": "code",
   "execution_count": 24,
   "id": "5049bf6d",
   "metadata": {},
   "outputs": [],
   "source": [
    "ze=np.zeros((1,2))"
   ]
  },
  {
   "cell_type": "code",
   "execution_count": 25,
   "id": "894d56e8",
   "metadata": {},
   "outputs": [
    {
     "name": "stdout",
     "output_type": "stream",
     "text": [
      "[[0. 0.]]\n"
     ]
    }
   ],
   "source": [
    "print(ze)"
   ]
  },
  {
   "cell_type": "code",
   "execution_count": 26,
   "id": "719c0ffc",
   "metadata": {},
   "outputs": [],
   "source": [
    "ze=np.ones((1,2))"
   ]
  },
  {
   "cell_type": "code",
   "execution_count": 27,
   "id": "4091a898",
   "metadata": {},
   "outputs": [
    {
     "name": "stdout",
     "output_type": "stream",
     "text": [
      "[[1. 1.]]\n"
     ]
    }
   ],
   "source": [
    "print(ze)"
   ]
  },
  {
   "cell_type": "code",
   "execution_count": 28,
   "id": "21d9f173",
   "metadata": {},
   "outputs": [
    {
     "data": {
      "text/plain": [
       "array([1., 4., 2., 5., 3., 6., 1., 1.])"
      ]
     },
     "execution_count": 28,
     "metadata": {},
     "output_type": "execute_result"
    }
   ],
   "source": [
    "np.append(trans,ze)"
   ]
  },
  {
   "cell_type": "code",
   "execution_count": 32,
   "id": "f160597b",
   "metadata": {},
   "outputs": [
    {
     "data": {
      "text/plain": [
       "array([[0.24021892, 0.52711403, 0.19642809, 0.1217435 , 0.54910944,\n",
       "        0.16492189, 0.3761195 , 0.73022623, 0.50702129, 0.5309454 ],\n",
       "       [0.82940173, 0.59830302, 0.8599592 , 0.88143154, 0.31335945,\n",
       "        0.03155968, 0.91745321, 0.87597543, 0.40416374, 0.93985099],\n",
       "       [0.00757662, 0.25897596, 0.69357087, 0.88511234, 0.01089495,\n",
       "        0.78541818, 0.19942783, 0.57906523, 0.7603258 , 0.21802733],\n",
       "       [0.13574098, 0.70315226, 0.97919222, 0.25961542, 0.75050545,\n",
       "        0.75182303, 0.32785631, 0.43072853, 0.3553503 , 0.33348931],\n",
       "       [0.91004591, 0.83922181, 0.04091626, 0.65927226, 0.58227823,\n",
       "        0.42404933, 0.00555094, 0.90707084, 0.81238393, 0.56161568],\n",
       "       [0.19645728, 0.92757236, 0.96791143, 0.70249653, 0.95127308,\n",
       "        0.02520556, 0.21339676, 0.24745751, 0.94876692, 0.00854177],\n",
       "       [0.23038712, 0.64462807, 0.23021282, 0.28657303, 0.73007732,\n",
       "        0.61651694, 0.47999079, 0.14322997, 0.12742305, 0.33392982],\n",
       "       [0.95633213, 0.43855379, 0.06081838, 0.92264722, 0.21322716,\n",
       "        0.67696611, 0.78187166, 0.92638554, 0.76552262, 0.85627921],\n",
       "       [0.79489274, 0.19813009, 0.0809117 , 0.58042591, 0.96714833,\n",
       "        0.5787488 , 0.72642129, 0.79909716, 0.07317363, 0.39529073],\n",
       "       [0.35667304, 0.69148558, 0.51125032, 0.40143611, 0.35433234,\n",
       "        0.33533213, 0.50202899, 0.93821685, 0.8365514 , 0.39230687]])"
      ]
     },
     "execution_count": 32,
     "metadata": {},
     "output_type": "execute_result"
    }
   ],
   "source": [
    "np.random.random((10,10))"
   ]
  },
  {
   "cell_type": "code",
   "execution_count": 33,
   "id": "6795f0bd",
   "metadata": {},
   "outputs": [
    {
     "data": {
      "text/plain": [
       "array([1, 2, 3, 4, 5, 6, 7, 8, 9])"
      ]
     },
     "execution_count": 33,
     "metadata": {},
     "output_type": "execute_result"
    }
   ],
   "source": [
    "np.append(a,(7,8,9))"
   ]
  },
  {
   "cell_type": "code",
   "execution_count": 34,
   "id": "f7dc2642",
   "metadata": {},
   "outputs": [
    {
     "data": {
      "text/plain": [
       "array([1, 2, 3, 4, 5, 6, 2])"
      ]
     },
     "execution_count": 34,
     "metadata": {},
     "output_type": "execute_result"
    }
   ],
   "source": [
    "np.append(a,2)"
   ]
  },
  {
   "cell_type": "code",
   "execution_count": null,
   "id": "23714d63",
   "metadata": {},
   "outputs": [],
   "source": []
  },
  {
   "cell_type": "code",
   "execution_count": null,
   "id": "8b7e6096",
   "metadata": {},
   "outputs": [],
   "source": []
  },
  {
   "cell_type": "code",
   "execution_count": null,
   "id": "0ed61644",
   "metadata": {},
   "outputs": [],
   "source": []
  },
  {
   "cell_type": "code",
   "execution_count": null,
   "id": "b8892b0e",
   "metadata": {},
   "outputs": [],
   "source": []
  }
 ],
 "metadata": {
  "kernelspec": {
   "display_name": "Python 3 (ipykernel)",
   "language": "python",
   "name": "python3"
  },
  "language_info": {
   "codemirror_mode": {
    "name": "ipython",
    "version": 3
   },
   "file_extension": ".py",
   "mimetype": "text/x-python",
   "name": "python",
   "nbconvert_exporter": "python",
   "pygments_lexer": "ipython3",
   "version": "3.10.8"
  }
 },
 "nbformat": 4,
 "nbformat_minor": 5
}
